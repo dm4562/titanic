{
 "metadata": {
  "language_info": {
   "codemirror_mode": {
    "name": "ipython",
    "version": 3
   },
   "file_extension": ".py",
   "mimetype": "text/x-python",
   "name": "python",
   "nbconvert_exporter": "python",
   "pygments_lexer": "ipython3",
   "version": "3.9.5"
  },
  "orig_nbformat": 2,
  "kernelspec": {
   "name": "python395jvsc74a57bd0d2e8a3a76cde361bcff9830bb93c3c0c3c1a771270de526adc76c0bd6befe53e",
   "display_name": "Python 3.9.5 64-bit ('venv': venv)"
  }
 },
 "nbformat": 4,
 "nbformat_minor": 2,
 "cells": [
  {
   "cell_type": "code",
   "execution_count": 12,
   "metadata": {},
   "outputs": [],
   "source": [
    "import os\n",
    "import sys\n",
    "sys.path.insert(0, os.path.abspath('../src/'))\n",
    "\n",
    "import pandas as pd\n",
    "import numpy as np\n",
    "\n",
    "from sklearn.compose import ColumnTransformer\n",
    "from sklearn.model_selection import StratifiedKFold\n",
    "from sklearn.pipeline import Pipeline, FeatureUnion\n",
    "\n",
    "from modules.transformers import ImputeTransformer, OneHotTransformer, SmoothMeanTransformer, DropTransformer"
   ]
  },
  {
   "cell_type": "code",
   "execution_count": 13,
   "metadata": {},
   "outputs": [
    {
     "output_type": "execute_result",
     "data": {
      "text/plain": [
       "     Pclass     Sex   Age  SibSp  Parch            Ticket     Fare Cabin  \\\n",
       "0         3    male  22.0      1      0         A/5 21171   7.2500   NaN   \n",
       "1         1  female  38.0      1      0          PC 17599  71.2833   C85   \n",
       "2         3  female  26.0      0      0  STON/O2. 3101282   7.9250   NaN   \n",
       "3         1  female  35.0      1      0            113803  53.1000  C123   \n",
       "4         3    male  35.0      0      0            373450   8.0500   NaN   \n",
       "..      ...     ...   ...    ...    ...               ...      ...   ...   \n",
       "886       2    male  27.0      0      0            211536  13.0000   NaN   \n",
       "887       1  female  19.0      0      0            112053  30.0000   B42   \n",
       "888       3  female   NaN      1      2        W./C. 6607  23.4500   NaN   \n",
       "889       1    male  26.0      0      0            111369  30.0000  C148   \n",
       "890       3    male  32.0      0      0            370376   7.7500   NaN   \n",
       "\n",
       "    Embarked  \n",
       "0          S  \n",
       "1          C  \n",
       "2          S  \n",
       "3          S  \n",
       "4          S  \n",
       "..       ...  \n",
       "886        S  \n",
       "887        S  \n",
       "888        S  \n",
       "889        C  \n",
       "890        Q  \n",
       "\n",
       "[891 rows x 9 columns]"
      ],
      "text/html": "<div>\n<style scoped>\n    .dataframe tbody tr th:only-of-type {\n        vertical-align: middle;\n    }\n\n    .dataframe tbody tr th {\n        vertical-align: top;\n    }\n\n    .dataframe thead th {\n        text-align: right;\n    }\n</style>\n<table border=\"1\" class=\"dataframe\">\n  <thead>\n    <tr style=\"text-align: right;\">\n      <th></th>\n      <th>Pclass</th>\n      <th>Sex</th>\n      <th>Age</th>\n      <th>SibSp</th>\n      <th>Parch</th>\n      <th>Ticket</th>\n      <th>Fare</th>\n      <th>Cabin</th>\n      <th>Embarked</th>\n    </tr>\n  </thead>\n  <tbody>\n    <tr>\n      <th>0</th>\n      <td>3</td>\n      <td>male</td>\n      <td>22.0</td>\n      <td>1</td>\n      <td>0</td>\n      <td>A/5 21171</td>\n      <td>7.2500</td>\n      <td>NaN</td>\n      <td>S</td>\n    </tr>\n    <tr>\n      <th>1</th>\n      <td>1</td>\n      <td>female</td>\n      <td>38.0</td>\n      <td>1</td>\n      <td>0</td>\n      <td>PC 17599</td>\n      <td>71.2833</td>\n      <td>C85</td>\n      <td>C</td>\n    </tr>\n    <tr>\n      <th>2</th>\n      <td>3</td>\n      <td>female</td>\n      <td>26.0</td>\n      <td>0</td>\n      <td>0</td>\n      <td>STON/O2. 3101282</td>\n      <td>7.9250</td>\n      <td>NaN</td>\n      <td>S</td>\n    </tr>\n    <tr>\n      <th>3</th>\n      <td>1</td>\n      <td>female</td>\n      <td>35.0</td>\n      <td>1</td>\n      <td>0</td>\n      <td>113803</td>\n      <td>53.1000</td>\n      <td>C123</td>\n      <td>S</td>\n    </tr>\n    <tr>\n      <th>4</th>\n      <td>3</td>\n      <td>male</td>\n      <td>35.0</td>\n      <td>0</td>\n      <td>0</td>\n      <td>373450</td>\n      <td>8.0500</td>\n      <td>NaN</td>\n      <td>S</td>\n    </tr>\n    <tr>\n      <th>...</th>\n      <td>...</td>\n      <td>...</td>\n      <td>...</td>\n      <td>...</td>\n      <td>...</td>\n      <td>...</td>\n      <td>...</td>\n      <td>...</td>\n      <td>...</td>\n    </tr>\n    <tr>\n      <th>886</th>\n      <td>2</td>\n      <td>male</td>\n      <td>27.0</td>\n      <td>0</td>\n      <td>0</td>\n      <td>211536</td>\n      <td>13.0000</td>\n      <td>NaN</td>\n      <td>S</td>\n    </tr>\n    <tr>\n      <th>887</th>\n      <td>1</td>\n      <td>female</td>\n      <td>19.0</td>\n      <td>0</td>\n      <td>0</td>\n      <td>112053</td>\n      <td>30.0000</td>\n      <td>B42</td>\n      <td>S</td>\n    </tr>\n    <tr>\n      <th>888</th>\n      <td>3</td>\n      <td>female</td>\n      <td>NaN</td>\n      <td>1</td>\n      <td>2</td>\n      <td>W./C. 6607</td>\n      <td>23.4500</td>\n      <td>NaN</td>\n      <td>S</td>\n    </tr>\n    <tr>\n      <th>889</th>\n      <td>1</td>\n      <td>male</td>\n      <td>26.0</td>\n      <td>0</td>\n      <td>0</td>\n      <td>111369</td>\n      <td>30.0000</td>\n      <td>C148</td>\n      <td>C</td>\n    </tr>\n    <tr>\n      <th>890</th>\n      <td>3</td>\n      <td>male</td>\n      <td>32.0</td>\n      <td>0</td>\n      <td>0</td>\n      <td>370376</td>\n      <td>7.7500</td>\n      <td>NaN</td>\n      <td>Q</td>\n    </tr>\n  </tbody>\n</table>\n<p>891 rows × 9 columns</p>\n</div>"
     },
     "metadata": {},
     "execution_count": 13
    }
   ],
   "source": [
    "FOLDER_NAME = \"../data\"\n",
    "\n",
    "validation_X = pd.read_csv(os.path.join(FOLDER_NAME, \"test.csv\"))\n",
    "X = pd.read_csv(os.path.join(FOLDER_NAME, \"train.csv\"))\n",
    "\n",
    "# Drop useless cols\n",
    "drop_cols = [\"Name\", \"PassengerId\"]\n",
    "validation_X = validation_X.drop(columns=drop_cols)\n",
    "X = X.drop(columns=drop_cols)\n",
    "\n",
    "Y = X[\"Survived\"]\n",
    "X = X.drop(columns=\"Survived\")\n",
    "X"
   ]
  },
  {
   "cell_type": "code",
   "execution_count": 14,
   "metadata": {},
   "outputs": [],
   "source": [
    "# Lets break the data into 10-fold sets\n",
    "\n",
    "skf = StratifiedKFold(n_splits=10)\n",
    "X_train_sets, X_test_sets = [], []\n",
    "Y_train_sets, Y_test_sets = [], []\n",
    "for train_idx, test_idx in skf.split(X, Y):\n",
    "    X_train_sets.append(X.loc[train_idx, :].reset_index(drop=True))\n",
    "    Y_train_sets.append(Y.loc[train_idx].reset_index(drop=True))\n",
    "    X_test_sets.append(X.loc[test_idx, :].reset_index(drop=True))\n",
    "    Y_test_sets.append(Y.loc[test_idx].reset_index(drop=True))\n",
    "\n",
    "del skf"
   ]
  },
  {
   "cell_type": "code",
   "execution_count": 15,
   "metadata": {},
   "outputs": [
    {
     "output_type": "stream",
     "name": "stdout",
     "text": [
      "[Pipeline] ...... (step 1 of 7) Processing embarked_imp, total=   0.0s\n[Pipeline] .......... (step 2 of 7) Processing fare_imp, total=   0.0s\n[Pipeline] ........... (step 3 of 7) Processing age_imp, total=   0.0s\n[Pipeline] ..... (step 4 of 7) Processing emabarked_enc, total=   0.0s\n[Pipeline] ........... (step 5 of 7) Processing sex_enc, total=   0.0s\n[Pipeline] ........ (step 6 of 7) Processing ticket_enc, total=   0.0s\n[Pipeline] ......... (step 7 of 7) Processing drop_cols, total=   0.0s\n"
     ]
    },
    {
     "output_type": "execute_result",
     "data": {
      "text/plain": [
       "     Pclass        Age  SibSp  Parch    Ticket      Fare Embarked  Embarked_Q  \\\n",
       "0         3  30.057205      0      0  0.386339    7.7875        Q         1.0   \n",
       "1         2  17.000000      0      0  0.386339   10.5000        S         0.0   \n",
       "2         3  33.000000      3      0  0.384427   15.8500        S         0.0   \n",
       "3         1  23.000000      3      2  0.387459  263.0000        S         0.0   \n",
       "4         3  59.000000      0      0  0.381364    7.2500        S         0.0   \n",
       "..      ...        ...    ...    ...       ...       ...      ...         ...   \n",
       "796       2  27.000000      0      0  0.381364   13.0000        S         0.0   \n",
       "797       1  19.000000      0      0  0.386339   30.0000        S         0.0   \n",
       "798       3  30.057205      1      2  0.379476   23.4500        S         0.0   \n",
       "799       1  26.000000      0      0  0.386339   30.0000        C         0.0   \n",
       "800       3  32.000000      0      0  0.381364    7.7500        Q         1.0   \n",
       "\n",
       "     Embarked_S  Sex_male  \n",
       "0           0.0       0.0  \n",
       "1           1.0       0.0  \n",
       "2           1.0       0.0  \n",
       "3           1.0       0.0  \n",
       "4           1.0       1.0  \n",
       "..          ...       ...  \n",
       "796         1.0       1.0  \n",
       "797         1.0       0.0  \n",
       "798         1.0       0.0  \n",
       "799         0.0       1.0  \n",
       "800         0.0       1.0  \n",
       "\n",
       "[801 rows x 10 columns]"
      ],
      "text/html": "<div>\n<style scoped>\n    .dataframe tbody tr th:only-of-type {\n        vertical-align: middle;\n    }\n\n    .dataframe tbody tr th {\n        vertical-align: top;\n    }\n\n    .dataframe thead th {\n        text-align: right;\n    }\n</style>\n<table border=\"1\" class=\"dataframe\">\n  <thead>\n    <tr style=\"text-align: right;\">\n      <th></th>\n      <th>Pclass</th>\n      <th>Age</th>\n      <th>SibSp</th>\n      <th>Parch</th>\n      <th>Ticket</th>\n      <th>Fare</th>\n      <th>Embarked</th>\n      <th>Embarked_Q</th>\n      <th>Embarked_S</th>\n      <th>Sex_male</th>\n    </tr>\n  </thead>\n  <tbody>\n    <tr>\n      <th>0</th>\n      <td>3</td>\n      <td>30.057205</td>\n      <td>0</td>\n      <td>0</td>\n      <td>0.386339</td>\n      <td>7.7875</td>\n      <td>Q</td>\n      <td>1.0</td>\n      <td>0.0</td>\n      <td>0.0</td>\n    </tr>\n    <tr>\n      <th>1</th>\n      <td>2</td>\n      <td>17.000000</td>\n      <td>0</td>\n      <td>0</td>\n      <td>0.386339</td>\n      <td>10.5000</td>\n      <td>S</td>\n      <td>0.0</td>\n      <td>1.0</td>\n      <td>0.0</td>\n    </tr>\n    <tr>\n      <th>2</th>\n      <td>3</td>\n      <td>33.000000</td>\n      <td>3</td>\n      <td>0</td>\n      <td>0.384427</td>\n      <td>15.8500</td>\n      <td>S</td>\n      <td>0.0</td>\n      <td>1.0</td>\n      <td>0.0</td>\n    </tr>\n    <tr>\n      <th>3</th>\n      <td>1</td>\n      <td>23.000000</td>\n      <td>3</td>\n      <td>2</td>\n      <td>0.387459</td>\n      <td>263.0000</td>\n      <td>S</td>\n      <td>0.0</td>\n      <td>1.0</td>\n      <td>0.0</td>\n    </tr>\n    <tr>\n      <th>4</th>\n      <td>3</td>\n      <td>59.000000</td>\n      <td>0</td>\n      <td>0</td>\n      <td>0.381364</td>\n      <td>7.2500</td>\n      <td>S</td>\n      <td>0.0</td>\n      <td>1.0</td>\n      <td>1.0</td>\n    </tr>\n    <tr>\n      <th>...</th>\n      <td>...</td>\n      <td>...</td>\n      <td>...</td>\n      <td>...</td>\n      <td>...</td>\n      <td>...</td>\n      <td>...</td>\n      <td>...</td>\n      <td>...</td>\n      <td>...</td>\n    </tr>\n    <tr>\n      <th>796</th>\n      <td>2</td>\n      <td>27.000000</td>\n      <td>0</td>\n      <td>0</td>\n      <td>0.381364</td>\n      <td>13.0000</td>\n      <td>S</td>\n      <td>0.0</td>\n      <td>1.0</td>\n      <td>1.0</td>\n    </tr>\n    <tr>\n      <th>797</th>\n      <td>1</td>\n      <td>19.000000</td>\n      <td>0</td>\n      <td>0</td>\n      <td>0.386339</td>\n      <td>30.0000</td>\n      <td>S</td>\n      <td>0.0</td>\n      <td>1.0</td>\n      <td>0.0</td>\n    </tr>\n    <tr>\n      <th>798</th>\n      <td>3</td>\n      <td>30.057205</td>\n      <td>1</td>\n      <td>2</td>\n      <td>0.379476</td>\n      <td>23.4500</td>\n      <td>S</td>\n      <td>0.0</td>\n      <td>1.0</td>\n      <td>0.0</td>\n    </tr>\n    <tr>\n      <th>799</th>\n      <td>1</td>\n      <td>26.000000</td>\n      <td>0</td>\n      <td>0</td>\n      <td>0.386339</td>\n      <td>30.0000</td>\n      <td>C</td>\n      <td>0.0</td>\n      <td>0.0</td>\n      <td>1.0</td>\n    </tr>\n    <tr>\n      <th>800</th>\n      <td>3</td>\n      <td>32.000000</td>\n      <td>0</td>\n      <td>0</td>\n      <td>0.381364</td>\n      <td>7.7500</td>\n      <td>Q</td>\n      <td>1.0</td>\n      <td>0.0</td>\n      <td>1.0</td>\n    </tr>\n  </tbody>\n</table>\n<p>801 rows × 10 columns</p>\n</div>"
     },
     "metadata": {},
     "execution_count": 15
    }
   ],
   "source": [
    "steps = [\n",
    "    (\"embarked_imp\", ImputeTransformer(col=\"Embarked\", missing_values=np.nan, strategy='most_frequent')), \n",
    "    (\"fare_imp\", ImputeTransformer(col=\"Fare\", missing_values=np.nan, strategy='mean')),\n",
    "    (\"age_imp\", ImputeTransformer(col=\"Age\", missing_values=np.nan, strategy='mean')),\n",
    "    (\"emabarked_enc\", OneHotTransformer(col=\"Embarked\", sparse=False, drop=\"first\")),\n",
    "    (\"sex_enc\", OneHotTransformer(col=\"Sex\", sparse=False, drop=\"first\")),\n",
    "    (\"ticket_enc\", SmoothMeanTransformer(col=\"Ticket\", m=200)),\n",
    "    (\"drop_cols\", DropTransformer(cols=[\"Sex\", \"Cabin\"])), \n",
    "]\n",
    "\n",
    "X_train = X_train_sets[0]\n",
    "Y_train = Y_train_sets[0]\n",
    "basic_pl = Pipeline(steps=steps, verbose=True)\n"
   ]
  },
  {
   "cell_type": "code",
   "execution_count": null,
   "metadata": {},
   "outputs": [],
   "source": []
  }
 ]
}