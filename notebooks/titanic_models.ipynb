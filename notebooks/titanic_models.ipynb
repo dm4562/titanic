{
 "metadata": {
  "language_info": {
   "codemirror_mode": {
    "name": "ipython",
    "version": 3
   },
   "file_extension": ".py",
   "mimetype": "text/x-python",
   "name": "python",
   "nbconvert_exporter": "python",
   "pygments_lexer": "ipython3",
   "version": "3.9.5"
  },
  "orig_nbformat": 2,
  "kernelspec": {
   "name": "python3",
   "display_name": "Python 3",
   "language": "python"
  }
 },
 "nbformat": 4,
 "nbformat_minor": 2,
 "cells": [
  {
   "cell_type": "code",
   "execution_count": 22,
   "metadata": {},
   "outputs": [],
   "source": [
    "import os\n",
    "import sys\n",
    "sys.path.insert(0, os.path.abspath('../src/'))\n",
    "\n",
    "import pandas as pd\n",
    "import numpy as np\n",
    "\n",
    "from sklearn.compose import ColumnTransformer\n",
    "from sklearn.model_selection import StratifiedKFold\n",
    "from sklearn.pipeline import Pipeline, FeatureUnion\n",
    "\n",
    "from modules.transformers import ImputeTransformer, OneHotTransformer, SmoothMeanTransformer, DropTransformer, Debug, ResetIndexTransformer"
   ]
  },
  {
   "cell_type": "code",
   "execution_count": 23,
   "metadata": {},
   "outputs": [
    {
     "output_type": "execute_result",
     "data": {
      "text/plain": [
       "     Pclass     Sex   Age  SibSp  Parch            Ticket     Fare Cabin  \\\n",
       "0         3    male  22.0      1      0         A/5 21171   7.2500   NaN   \n",
       "1         1  female  38.0      1      0          PC 17599  71.2833   C85   \n",
       "2         3  female  26.0      0      0  STON/O2. 3101282   7.9250   NaN   \n",
       "3         1  female  35.0      1      0            113803  53.1000  C123   \n",
       "4         3    male  35.0      0      0            373450   8.0500   NaN   \n",
       "..      ...     ...   ...    ...    ...               ...      ...   ...   \n",
       "886       2    male  27.0      0      0            211536  13.0000   NaN   \n",
       "887       1  female  19.0      0      0            112053  30.0000   B42   \n",
       "888       3  female   NaN      1      2        W./C. 6607  23.4500   NaN   \n",
       "889       1    male  26.0      0      0            111369  30.0000  C148   \n",
       "890       3    male  32.0      0      0            370376   7.7500   NaN   \n",
       "\n",
       "    Embarked  \n",
       "0          S  \n",
       "1          C  \n",
       "2          S  \n",
       "3          S  \n",
       "4          S  \n",
       "..       ...  \n",
       "886        S  \n",
       "887        S  \n",
       "888        S  \n",
       "889        C  \n",
       "890        Q  \n",
       "\n",
       "[891 rows x 9 columns]"
      ],
      "text/html": "<div>\n<style scoped>\n    .dataframe tbody tr th:only-of-type {\n        vertical-align: middle;\n    }\n\n    .dataframe tbody tr th {\n        vertical-align: top;\n    }\n\n    .dataframe thead th {\n        text-align: right;\n    }\n</style>\n<table border=\"1\" class=\"dataframe\">\n  <thead>\n    <tr style=\"text-align: right;\">\n      <th></th>\n      <th>Pclass</th>\n      <th>Sex</th>\n      <th>Age</th>\n      <th>SibSp</th>\n      <th>Parch</th>\n      <th>Ticket</th>\n      <th>Fare</th>\n      <th>Cabin</th>\n      <th>Embarked</th>\n    </tr>\n  </thead>\n  <tbody>\n    <tr>\n      <th>0</th>\n      <td>3</td>\n      <td>male</td>\n      <td>22.0</td>\n      <td>1</td>\n      <td>0</td>\n      <td>A/5 21171</td>\n      <td>7.2500</td>\n      <td>NaN</td>\n      <td>S</td>\n    </tr>\n    <tr>\n      <th>1</th>\n      <td>1</td>\n      <td>female</td>\n      <td>38.0</td>\n      <td>1</td>\n      <td>0</td>\n      <td>PC 17599</td>\n      <td>71.2833</td>\n      <td>C85</td>\n      <td>C</td>\n    </tr>\n    <tr>\n      <th>2</th>\n      <td>3</td>\n      <td>female</td>\n      <td>26.0</td>\n      <td>0</td>\n      <td>0</td>\n      <td>STON/O2. 3101282</td>\n      <td>7.9250</td>\n      <td>NaN</td>\n      <td>S</td>\n    </tr>\n    <tr>\n      <th>3</th>\n      <td>1</td>\n      <td>female</td>\n      <td>35.0</td>\n      <td>1</td>\n      <td>0</td>\n      <td>113803</td>\n      <td>53.1000</td>\n      <td>C123</td>\n      <td>S</td>\n    </tr>\n    <tr>\n      <th>4</th>\n      <td>3</td>\n      <td>male</td>\n      <td>35.0</td>\n      <td>0</td>\n      <td>0</td>\n      <td>373450</td>\n      <td>8.0500</td>\n      <td>NaN</td>\n      <td>S</td>\n    </tr>\n    <tr>\n      <th>...</th>\n      <td>...</td>\n      <td>...</td>\n      <td>...</td>\n      <td>...</td>\n      <td>...</td>\n      <td>...</td>\n      <td>...</td>\n      <td>...</td>\n      <td>...</td>\n    </tr>\n    <tr>\n      <th>886</th>\n      <td>2</td>\n      <td>male</td>\n      <td>27.0</td>\n      <td>0</td>\n      <td>0</td>\n      <td>211536</td>\n      <td>13.0000</td>\n      <td>NaN</td>\n      <td>S</td>\n    </tr>\n    <tr>\n      <th>887</th>\n      <td>1</td>\n      <td>female</td>\n      <td>19.0</td>\n      <td>0</td>\n      <td>0</td>\n      <td>112053</td>\n      <td>30.0000</td>\n      <td>B42</td>\n      <td>S</td>\n    </tr>\n    <tr>\n      <th>888</th>\n      <td>3</td>\n      <td>female</td>\n      <td>NaN</td>\n      <td>1</td>\n      <td>2</td>\n      <td>W./C. 6607</td>\n      <td>23.4500</td>\n      <td>NaN</td>\n      <td>S</td>\n    </tr>\n    <tr>\n      <th>889</th>\n      <td>1</td>\n      <td>male</td>\n      <td>26.0</td>\n      <td>0</td>\n      <td>0</td>\n      <td>111369</td>\n      <td>30.0000</td>\n      <td>C148</td>\n      <td>C</td>\n    </tr>\n    <tr>\n      <th>890</th>\n      <td>3</td>\n      <td>male</td>\n      <td>32.0</td>\n      <td>0</td>\n      <td>0</td>\n      <td>370376</td>\n      <td>7.7500</td>\n      <td>NaN</td>\n      <td>Q</td>\n    </tr>\n  </tbody>\n</table>\n<p>891 rows × 9 columns</p>\n</div>"
     },
     "metadata": {},
     "execution_count": 23
    }
   ],
   "source": [
    "FOLDER_NAME = \"../data\"\n",
    "\n",
    "validation_X = pd.read_csv(os.path.join(FOLDER_NAME, \"test.csv\"))\n",
    "X = pd.read_csv(os.path.join(FOLDER_NAME, \"train.csv\"))\n",
    "\n",
    "# Drop useless cols\n",
    "drop_cols = [\"Name\", \"PassengerId\"]\n",
    "validation_X = validation_X.drop(columns=drop_cols)\n",
    "X = X.drop(columns=drop_cols)\n",
    "\n",
    "Y = X[\"Survived\"]\n",
    "X = X.drop(columns=\"Survived\")\n",
    "X"
   ]
  },
  {
   "cell_type": "code",
   "execution_count": 24,
   "metadata": {},
   "outputs": [],
   "source": [
    "from sklearn.model_selection import train_test_split\n",
    "\n",
    "X_train, X_test, Y_train, Y_test = train_test_split(X, Y, test_size=0.2, random_state=35)"
   ]
  },
  {
   "cell_type": "code",
   "execution_count": 25,
   "metadata": {},
   "outputs": [
    {
     "output_type": "execute_result",
     "data": {
      "text/plain": [
       "     Pclass   Age  SibSp  Parch    Ticket      Fare  Embarked_Q  Embarked_S  \\\n",
       "0         3  38.0      0      0  0.382971    7.0500         0.0         1.0   \n",
       "1         3  34.0      0      0  0.387946    6.4958         0.0         1.0   \n",
       "2         2  54.0      0      0  0.387946   14.0000         0.0         1.0   \n",
       "3         1  49.0      1      0  0.386026   56.9292         0.0         0.0   \n",
       "4         1  64.0      1      4  0.392045  263.0000         0.0         1.0   \n",
       "..      ...   ...    ...    ...       ...       ...         ...         ...   \n",
       "707       2  54.0      1      0  0.390976   26.0000         0.0         1.0   \n",
       "708       3   5.0      2      1  0.382241   19.2583         0.0         0.0   \n",
       "709       2  66.0      0      0  0.387946   10.5000         0.0         1.0   \n",
       "710       3  25.0      0      0  0.386026    0.0000         0.0         1.0   \n",
       "711       3  29.0      0      0  0.382971    9.4833         0.0         1.0   \n",
       "\n",
       "     Sex_male  \n",
       "0         1.0  \n",
       "1         1.0  \n",
       "2         1.0  \n",
       "3         1.0  \n",
       "4         1.0  \n",
       "..        ...  \n",
       "707       1.0  \n",
       "708       0.0  \n",
       "709       1.0  \n",
       "710       1.0  \n",
       "711       1.0  \n",
       "\n",
       "[712 rows x 9 columns]"
      ],
      "text/html": "<div>\n<style scoped>\n    .dataframe tbody tr th:only-of-type {\n        vertical-align: middle;\n    }\n\n    .dataframe tbody tr th {\n        vertical-align: top;\n    }\n\n    .dataframe thead th {\n        text-align: right;\n    }\n</style>\n<table border=\"1\" class=\"dataframe\">\n  <thead>\n    <tr style=\"text-align: right;\">\n      <th></th>\n      <th>Pclass</th>\n      <th>Age</th>\n      <th>SibSp</th>\n      <th>Parch</th>\n      <th>Ticket</th>\n      <th>Fare</th>\n      <th>Embarked_Q</th>\n      <th>Embarked_S</th>\n      <th>Sex_male</th>\n    </tr>\n  </thead>\n  <tbody>\n    <tr>\n      <th>0</th>\n      <td>3</td>\n      <td>38.0</td>\n      <td>0</td>\n      <td>0</td>\n      <td>0.382971</td>\n      <td>7.0500</td>\n      <td>0.0</td>\n      <td>1.0</td>\n      <td>1.0</td>\n    </tr>\n    <tr>\n      <th>1</th>\n      <td>3</td>\n      <td>34.0</td>\n      <td>0</td>\n      <td>0</td>\n      <td>0.387946</td>\n      <td>6.4958</td>\n      <td>0.0</td>\n      <td>1.0</td>\n      <td>1.0</td>\n    </tr>\n    <tr>\n      <th>2</th>\n      <td>2</td>\n      <td>54.0</td>\n      <td>0</td>\n      <td>0</td>\n      <td>0.387946</td>\n      <td>14.0000</td>\n      <td>0.0</td>\n      <td>1.0</td>\n      <td>1.0</td>\n    </tr>\n    <tr>\n      <th>3</th>\n      <td>1</td>\n      <td>49.0</td>\n      <td>1</td>\n      <td>0</td>\n      <td>0.386026</td>\n      <td>56.9292</td>\n      <td>0.0</td>\n      <td>0.0</td>\n      <td>1.0</td>\n    </tr>\n    <tr>\n      <th>4</th>\n      <td>1</td>\n      <td>64.0</td>\n      <td>1</td>\n      <td>4</td>\n      <td>0.392045</td>\n      <td>263.0000</td>\n      <td>0.0</td>\n      <td>1.0</td>\n      <td>1.0</td>\n    </tr>\n    <tr>\n      <th>...</th>\n      <td>...</td>\n      <td>...</td>\n      <td>...</td>\n      <td>...</td>\n      <td>...</td>\n      <td>...</td>\n      <td>...</td>\n      <td>...</td>\n      <td>...</td>\n    </tr>\n    <tr>\n      <th>707</th>\n      <td>2</td>\n      <td>54.0</td>\n      <td>1</td>\n      <td>0</td>\n      <td>0.390976</td>\n      <td>26.0000</td>\n      <td>0.0</td>\n      <td>1.0</td>\n      <td>1.0</td>\n    </tr>\n    <tr>\n      <th>708</th>\n      <td>3</td>\n      <td>5.0</td>\n      <td>2</td>\n      <td>1</td>\n      <td>0.382241</td>\n      <td>19.2583</td>\n      <td>0.0</td>\n      <td>0.0</td>\n      <td>0.0</td>\n    </tr>\n    <tr>\n      <th>709</th>\n      <td>2</td>\n      <td>66.0</td>\n      <td>0</td>\n      <td>0</td>\n      <td>0.387946</td>\n      <td>10.5000</td>\n      <td>0.0</td>\n      <td>1.0</td>\n      <td>1.0</td>\n    </tr>\n    <tr>\n      <th>710</th>\n      <td>3</td>\n      <td>25.0</td>\n      <td>0</td>\n      <td>0</td>\n      <td>0.386026</td>\n      <td>0.0000</td>\n      <td>0.0</td>\n      <td>1.0</td>\n      <td>1.0</td>\n    </tr>\n    <tr>\n      <th>711</th>\n      <td>3</td>\n      <td>29.0</td>\n      <td>0</td>\n      <td>0</td>\n      <td>0.382971</td>\n      <td>9.4833</td>\n      <td>0.0</td>\n      <td>1.0</td>\n      <td>1.0</td>\n    </tr>\n  </tbody>\n</table>\n<p>712 rows × 9 columns</p>\n</div>"
     },
     "metadata": {},
     "execution_count": 25
    }
   ],
   "source": [
    "steps = [\n",
    "    (\"reset_index\", ResetIndexTransformer()),\n",
    "    (\"embarked_imp\", ImputeTransformer(col=\"Embarked\", missing_values=np.nan, strategy='most_frequent')),\n",
    "    # (\"debug1\", Debug()),\n",
    "    (\"fare_imp\", ImputeTransformer(col=\"Fare\", missing_values=np.nan, strategy='mean')),\n",
    "    # (\"debug2\", Debug()),\n",
    "    (\"age_imp\", ImputeTransformer(col=\"Age\", missing_values=np.nan, strategy='mean')),\n",
    "    # (\"debug3\", Debug()),\n",
    "    (\"emabarked_enc\", OneHotTransformer(col=\"Embarked\")),\n",
    "    # (\"debug4\", Debug()),\n",
    "    (\"sex_enc\", OneHotTransformer(col=\"Sex\")),\n",
    "    # (\"debug5\", Debug()),\n",
    "    (\"ticket_enc\", SmoothMeanTransformer(col=\"Ticket\", m=200)),\n",
    "    (\"drop_cols\", DropTransformer(cols=[\"Sex\", \"Cabin\", \"Embarked\"])),\n",
    "    # (\"debug6\", Debug()),\n",
    "]\n",
    "\n",
    "\n",
    "transform_pl = Pipeline(steps=steps, verbose=False)\n",
    "\n",
    "# Test the pipeline on train\n",
    "transform_pl.fit_transform(X_train, Y_train)\n"
   ]
  },
  {
   "cell_type": "code",
   "execution_count": 26,
   "metadata": {},
   "outputs": [
    {
     "output_type": "execute_result",
     "data": {
      "text/plain": [
       "     Pclass        Age  SibSp  Parch    Ticket     Fare  Embarked_Q  \\\n",
       "0         3  17.000000      0      0  0.384886   8.6625         0.0   \n",
       "1         2  18.000000      0      2  0.384886  13.0000         0.0   \n",
       "2         2  42.000000      1      0  0.384886  26.0000         0.0   \n",
       "3         3  33.000000      0      0  0.384886   7.8958         0.0   \n",
       "4         3  18.000000      1      0  0.382971  17.8000         0.0   \n",
       "..      ...        ...    ...    ...       ...      ...         ...   \n",
       "174       1  71.000000      0      0  0.384886  34.6542         0.0   \n",
       "175       2  34.000000      0      0  0.384886  13.0000         0.0   \n",
       "176       2  54.000000      0      0  0.382971  26.0000         0.0   \n",
       "177       2  21.000000      1      0  0.384886  11.5000         0.0   \n",
       "178       3  29.661434      0      0  0.384886   7.8792         1.0   \n",
       "\n",
       "     Embarked_S  Sex_male  \n",
       "0           1.0       1.0  \n",
       "1           1.0       0.0  \n",
       "2           1.0       0.0  \n",
       "3           1.0       1.0  \n",
       "4           1.0       0.0  \n",
       "..          ...       ...  \n",
       "174         0.0       1.0  \n",
       "175         1.0       1.0  \n",
       "176         1.0       1.0  \n",
       "177         1.0       1.0  \n",
       "178         0.0       0.0  \n",
       "\n",
       "[179 rows x 9 columns]"
      ],
      "text/html": "<div>\n<style scoped>\n    .dataframe tbody tr th:only-of-type {\n        vertical-align: middle;\n    }\n\n    .dataframe tbody tr th {\n        vertical-align: top;\n    }\n\n    .dataframe thead th {\n        text-align: right;\n    }\n</style>\n<table border=\"1\" class=\"dataframe\">\n  <thead>\n    <tr style=\"text-align: right;\">\n      <th></th>\n      <th>Pclass</th>\n      <th>Age</th>\n      <th>SibSp</th>\n      <th>Parch</th>\n      <th>Ticket</th>\n      <th>Fare</th>\n      <th>Embarked_Q</th>\n      <th>Embarked_S</th>\n      <th>Sex_male</th>\n    </tr>\n  </thead>\n  <tbody>\n    <tr>\n      <th>0</th>\n      <td>3</td>\n      <td>17.000000</td>\n      <td>0</td>\n      <td>0</td>\n      <td>0.384886</td>\n      <td>8.6625</td>\n      <td>0.0</td>\n      <td>1.0</td>\n      <td>1.0</td>\n    </tr>\n    <tr>\n      <th>1</th>\n      <td>2</td>\n      <td>18.000000</td>\n      <td>0</td>\n      <td>2</td>\n      <td>0.384886</td>\n      <td>13.0000</td>\n      <td>0.0</td>\n      <td>1.0</td>\n      <td>0.0</td>\n    </tr>\n    <tr>\n      <th>2</th>\n      <td>2</td>\n      <td>42.000000</td>\n      <td>1</td>\n      <td>0</td>\n      <td>0.384886</td>\n      <td>26.0000</td>\n      <td>0.0</td>\n      <td>1.0</td>\n      <td>0.0</td>\n    </tr>\n    <tr>\n      <th>3</th>\n      <td>3</td>\n      <td>33.000000</td>\n      <td>0</td>\n      <td>0</td>\n      <td>0.384886</td>\n      <td>7.8958</td>\n      <td>0.0</td>\n      <td>1.0</td>\n      <td>1.0</td>\n    </tr>\n    <tr>\n      <th>4</th>\n      <td>3</td>\n      <td>18.000000</td>\n      <td>1</td>\n      <td>0</td>\n      <td>0.382971</td>\n      <td>17.8000</td>\n      <td>0.0</td>\n      <td>1.0</td>\n      <td>0.0</td>\n    </tr>\n    <tr>\n      <th>...</th>\n      <td>...</td>\n      <td>...</td>\n      <td>...</td>\n      <td>...</td>\n      <td>...</td>\n      <td>...</td>\n      <td>...</td>\n      <td>...</td>\n      <td>...</td>\n    </tr>\n    <tr>\n      <th>174</th>\n      <td>1</td>\n      <td>71.000000</td>\n      <td>0</td>\n      <td>0</td>\n      <td>0.384886</td>\n      <td>34.6542</td>\n      <td>0.0</td>\n      <td>0.0</td>\n      <td>1.0</td>\n    </tr>\n    <tr>\n      <th>175</th>\n      <td>2</td>\n      <td>34.000000</td>\n      <td>0</td>\n      <td>0</td>\n      <td>0.384886</td>\n      <td>13.0000</td>\n      <td>0.0</td>\n      <td>1.0</td>\n      <td>1.0</td>\n    </tr>\n    <tr>\n      <th>176</th>\n      <td>2</td>\n      <td>54.000000</td>\n      <td>0</td>\n      <td>0</td>\n      <td>0.382971</td>\n      <td>26.0000</td>\n      <td>0.0</td>\n      <td>1.0</td>\n      <td>1.0</td>\n    </tr>\n    <tr>\n      <th>177</th>\n      <td>2</td>\n      <td>21.000000</td>\n      <td>1</td>\n      <td>0</td>\n      <td>0.384886</td>\n      <td>11.5000</td>\n      <td>0.0</td>\n      <td>1.0</td>\n      <td>1.0</td>\n    </tr>\n    <tr>\n      <th>178</th>\n      <td>3</td>\n      <td>29.661434</td>\n      <td>0</td>\n      <td>0</td>\n      <td>0.384886</td>\n      <td>7.8792</td>\n      <td>1.0</td>\n      <td>0.0</td>\n      <td>0.0</td>\n    </tr>\n  </tbody>\n</table>\n<p>179 rows × 9 columns</p>\n</div>"
     },
     "metadata": {},
     "execution_count": 26
    }
   ],
   "source": [
    "transform_pl.transform(X_test)"
   ]
  },
  {
   "cell_type": "code",
   "execution_count": 27,
   "metadata": {},
   "outputs": [],
   "source": [
    "from sklearn.tree import DecisionTreeClassifier\n",
    "\n",
    "steps = [\n",
    "    (\"transform\", transform_pl),\n",
    "    (\"clf\", None)\n",
    "]\n",
    "\n",
    "clf_pl = Pipeline(steps=steps, verbose=False)\n",
    "clf_pl = clf_pl.fit(X_train, Y_train)"
   ]
  },
  {
   "cell_type": "code",
   "execution_count": 28,
   "metadata": {
    "tags": []
   },
   "outputs": [
    {
     "output_type": "stream",
     "name": "stdout",
     "text": [
      "Fitting 10 folds for each of 60 candidates, totalling 600 fits\n",
      "Best Score:  0.7110783752484846\n",
      "Best Params:  {'clf': DecisionTreeClassifier(criterion='entropy', max_depth=334.0,\n",
      "                       max_features='auto'), 'clf__criterion': 'entropy', 'clf__max_depth': 334.0, 'clf__max_features': 'auto'}\n"
     ]
    }
   ],
   "source": [
    "from sklearn.model_selection import GridSearchCV\n",
    "\n",
    "grid_params = {\n",
    "    'clf': (DecisionTreeClassifier(),),\n",
    "    'clf__criterion': ['gini', 'entropy'],\n",
    "    'clf__max_depth': np.linspace(1, 1000, 10),\n",
    "    'clf__max_features': ['auto', 'sqrt', 'log2']\n",
    "}\n",
    "clf = GridSearchCV(clf_pl, grid_params, verbose=1, cv=10, scoring=\"f1\")\n",
    "clf.fit(X_train, Y_train)\n",
    "print(\"Best Score: \", clf.best_score_)\n",
    "print(\"Best Params: \", clf.best_params_)\n"
   ]
  },
  {
   "cell_type": "code",
   "execution_count": null,
   "metadata": {},
   "outputs": [],
   "source": []
  }
 ]
}