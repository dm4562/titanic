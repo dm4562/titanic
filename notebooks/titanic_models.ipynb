{
 "metadata": {
  "language_info": {
   "codemirror_mode": {
    "name": "ipython",
    "version": 3
   },
   "file_extension": ".py",
   "mimetype": "text/x-python",
   "name": "python",
   "nbconvert_exporter": "python",
   "pygments_lexer": "ipython3",
   "version": "3.9.5"
  },
  "orig_nbformat": 2,
  "kernelspec": {
   "name": "pythonjvsc74a57bd0d2e8a3a76cde361bcff9830bb93c3c0c3c1a771270de526adc76c0bd6befe53e",
   "display_name": "Python 3.9.5 64-bit ('venv': venv)"
  },
  "metadata": {
   "interpreter": {
    "hash": "d2e8a3a76cde361bcff9830bb93c3c0c3c1a771270de526adc76c0bd6befe53e"
   }
  }
 },
 "nbformat": 4,
 "nbformat_minor": 2,
 "cells": [
  {
   "cell_type": "code",
   "execution_count": 10,
   "metadata": {},
   "outputs": [],
   "source": [
    "import os\n",
    "import sys\n",
    "sys.path.insert(0, os.path.abspath('../src/'))\n",
    "\n",
    "import pandas as pd\n",
    "import numpy as np\n",
    "\n",
    "from sklearn.compose import ColumnTransformer\n",
    "from sklearn.pipeline import Pipeline, FeatureUnion\n",
    "\n",
    "from modules.transformers import (\n",
    "    ImputeTransformer, \n",
    "    OneHotTransformer, \n",
    "    SmoothMeanTransformer, \n",
    "    DropTransformer, \n",
    "    Debug, \n",
    "    ResetIndexTransformer, \n",
    "    StandardScalerTransformer\n",
    ")"
   ]
  },
  {
   "cell_type": "code",
   "execution_count": 11,
   "metadata": {},
   "outputs": [
    {
     "output_type": "execute_result",
     "data": {
      "text/plain": [
       "     Pclass     Sex   Age  SibSp  Parch            Ticket     Fare Cabin  \\\n",
       "0         3    male  22.0      1      0         A/5 21171   7.2500   NaN   \n",
       "1         1  female  38.0      1      0          PC 17599  71.2833   C85   \n",
       "2         3  female  26.0      0      0  STON/O2. 3101282   7.9250   NaN   \n",
       "3         1  female  35.0      1      0            113803  53.1000  C123   \n",
       "4         3    male  35.0      0      0            373450   8.0500   NaN   \n",
       "..      ...     ...   ...    ...    ...               ...      ...   ...   \n",
       "886       2    male  27.0      0      0            211536  13.0000   NaN   \n",
       "887       1  female  19.0      0      0            112053  30.0000   B42   \n",
       "888       3  female   NaN      1      2        W./C. 6607  23.4500   NaN   \n",
       "889       1    male  26.0      0      0            111369  30.0000  C148   \n",
       "890       3    male  32.0      0      0            370376   7.7500   NaN   \n",
       "\n",
       "    Embarked  \n",
       "0          S  \n",
       "1          C  \n",
       "2          S  \n",
       "3          S  \n",
       "4          S  \n",
       "..       ...  \n",
       "886        S  \n",
       "887        S  \n",
       "888        S  \n",
       "889        C  \n",
       "890        Q  \n",
       "\n",
       "[891 rows x 9 columns]"
      ],
      "text/html": "<div>\n<style scoped>\n    .dataframe tbody tr th:only-of-type {\n        vertical-align: middle;\n    }\n\n    .dataframe tbody tr th {\n        vertical-align: top;\n    }\n\n    .dataframe thead th {\n        text-align: right;\n    }\n</style>\n<table border=\"1\" class=\"dataframe\">\n  <thead>\n    <tr style=\"text-align: right;\">\n      <th></th>\n      <th>Pclass</th>\n      <th>Sex</th>\n      <th>Age</th>\n      <th>SibSp</th>\n      <th>Parch</th>\n      <th>Ticket</th>\n      <th>Fare</th>\n      <th>Cabin</th>\n      <th>Embarked</th>\n    </tr>\n  </thead>\n  <tbody>\n    <tr>\n      <th>0</th>\n      <td>3</td>\n      <td>male</td>\n      <td>22.0</td>\n      <td>1</td>\n      <td>0</td>\n      <td>A/5 21171</td>\n      <td>7.2500</td>\n      <td>NaN</td>\n      <td>S</td>\n    </tr>\n    <tr>\n      <th>1</th>\n      <td>1</td>\n      <td>female</td>\n      <td>38.0</td>\n      <td>1</td>\n      <td>0</td>\n      <td>PC 17599</td>\n      <td>71.2833</td>\n      <td>C85</td>\n      <td>C</td>\n    </tr>\n    <tr>\n      <th>2</th>\n      <td>3</td>\n      <td>female</td>\n      <td>26.0</td>\n      <td>0</td>\n      <td>0</td>\n      <td>STON/O2. 3101282</td>\n      <td>7.9250</td>\n      <td>NaN</td>\n      <td>S</td>\n    </tr>\n    <tr>\n      <th>3</th>\n      <td>1</td>\n      <td>female</td>\n      <td>35.0</td>\n      <td>1</td>\n      <td>0</td>\n      <td>113803</td>\n      <td>53.1000</td>\n      <td>C123</td>\n      <td>S</td>\n    </tr>\n    <tr>\n      <th>4</th>\n      <td>3</td>\n      <td>male</td>\n      <td>35.0</td>\n      <td>0</td>\n      <td>0</td>\n      <td>373450</td>\n      <td>8.0500</td>\n      <td>NaN</td>\n      <td>S</td>\n    </tr>\n    <tr>\n      <th>...</th>\n      <td>...</td>\n      <td>...</td>\n      <td>...</td>\n      <td>...</td>\n      <td>...</td>\n      <td>...</td>\n      <td>...</td>\n      <td>...</td>\n      <td>...</td>\n    </tr>\n    <tr>\n      <th>886</th>\n      <td>2</td>\n      <td>male</td>\n      <td>27.0</td>\n      <td>0</td>\n      <td>0</td>\n      <td>211536</td>\n      <td>13.0000</td>\n      <td>NaN</td>\n      <td>S</td>\n    </tr>\n    <tr>\n      <th>887</th>\n      <td>1</td>\n      <td>female</td>\n      <td>19.0</td>\n      <td>0</td>\n      <td>0</td>\n      <td>112053</td>\n      <td>30.0000</td>\n      <td>B42</td>\n      <td>S</td>\n    </tr>\n    <tr>\n      <th>888</th>\n      <td>3</td>\n      <td>female</td>\n      <td>NaN</td>\n      <td>1</td>\n      <td>2</td>\n      <td>W./C. 6607</td>\n      <td>23.4500</td>\n      <td>NaN</td>\n      <td>S</td>\n    </tr>\n    <tr>\n      <th>889</th>\n      <td>1</td>\n      <td>male</td>\n      <td>26.0</td>\n      <td>0</td>\n      <td>0</td>\n      <td>111369</td>\n      <td>30.0000</td>\n      <td>C148</td>\n      <td>C</td>\n    </tr>\n    <tr>\n      <th>890</th>\n      <td>3</td>\n      <td>male</td>\n      <td>32.0</td>\n      <td>0</td>\n      <td>0</td>\n      <td>370376</td>\n      <td>7.7500</td>\n      <td>NaN</td>\n      <td>Q</td>\n    </tr>\n  </tbody>\n</table>\n<p>891 rows × 9 columns</p>\n</div>"
     },
     "metadata": {},
     "execution_count": 11
    }
   ],
   "source": [
    "FOLDER_NAME = \"../data\"\n",
    "\n",
    "validation_X = pd.read_csv(os.path.join(FOLDER_NAME, \"test.csv\"))\n",
    "X = pd.read_csv(os.path.join(FOLDER_NAME, \"train.csv\"))\n",
    "\n",
    "# Drop useless cols\n",
    "drop_cols = [\"Name\", \"PassengerId\"]\n",
    "validation_X = validation_X.drop(columns=drop_cols)\n",
    "X = X.drop(columns=drop_cols)\n",
    "\n",
    "Y = X[\"Survived\"]\n",
    "X = X.drop(columns=\"Survived\")\n",
    "X"
   ]
  },
  {
   "cell_type": "code",
   "execution_count": 12,
   "metadata": {},
   "outputs": [],
   "source": [
    "from sklearn.model_selection import train_test_split\n",
    "\n",
    "X_train, X_test, Y_train, Y_test = train_test_split(X, Y, test_size=0.2, random_state=35)"
   ]
  },
  {
   "cell_type": "code",
   "execution_count": 13,
   "metadata": {},
   "outputs": [
    {
     "output_type": "execute_result",
     "data": {
      "text/plain": [
       "     Pclass       Age  SibSp  Parch    Ticket      Fare  Embarked_Q  \\\n",
       "0       1.0  0.472229  0.000    0.0  0.293694  0.013761         0.0   \n",
       "1       1.0  0.421965  0.000    0.0  0.680952  0.012679         0.0   \n",
       "2       0.5  0.673285  0.000    0.0  0.680952  0.027326         0.0   \n",
       "3       0.0  0.610455  0.125    0.0  0.531461  0.111118         0.0   \n",
       "4       0.0  0.798944  0.125    0.8  1.000000  0.513342         0.0   \n",
       "..      ...       ...    ...    ...       ...       ...         ...   \n",
       "707     0.5  0.673285  0.125    0.0  0.916801  0.050749         0.0   \n",
       "708     1.0  0.057552  0.250    0.2  0.236875  0.037590         0.0   \n",
       "709     0.5  0.824076  0.000    0.0  0.680952  0.020495         0.0   \n",
       "710     1.0  0.308872  0.000    0.0  0.531461  0.000000         0.0   \n",
       "711     1.0  0.359135  0.000    0.0  0.293694  0.018510         0.0   \n",
       "\n",
       "     Embarked_S  Sex_male  \n",
       "0           1.0       1.0  \n",
       "1           1.0       1.0  \n",
       "2           1.0       1.0  \n",
       "3           0.0       1.0  \n",
       "4           1.0       1.0  \n",
       "..          ...       ...  \n",
       "707         1.0       1.0  \n",
       "708         0.0       0.0  \n",
       "709         1.0       1.0  \n",
       "710         1.0       1.0  \n",
       "711         1.0       1.0  \n",
       "\n",
       "[712 rows x 9 columns]"
      ],
      "text/html": "<div>\n<style scoped>\n    .dataframe tbody tr th:only-of-type {\n        vertical-align: middle;\n    }\n\n    .dataframe tbody tr th {\n        vertical-align: top;\n    }\n\n    .dataframe thead th {\n        text-align: right;\n    }\n</style>\n<table border=\"1\" class=\"dataframe\">\n  <thead>\n    <tr style=\"text-align: right;\">\n      <th></th>\n      <th>Pclass</th>\n      <th>Age</th>\n      <th>SibSp</th>\n      <th>Parch</th>\n      <th>Ticket</th>\n      <th>Fare</th>\n      <th>Embarked_Q</th>\n      <th>Embarked_S</th>\n      <th>Sex_male</th>\n    </tr>\n  </thead>\n  <tbody>\n    <tr>\n      <th>0</th>\n      <td>1.0</td>\n      <td>0.472229</td>\n      <td>0.000</td>\n      <td>0.0</td>\n      <td>0.293694</td>\n      <td>0.013761</td>\n      <td>0.0</td>\n      <td>1.0</td>\n      <td>1.0</td>\n    </tr>\n    <tr>\n      <th>1</th>\n      <td>1.0</td>\n      <td>0.421965</td>\n      <td>0.000</td>\n      <td>0.0</td>\n      <td>0.680952</td>\n      <td>0.012679</td>\n      <td>0.0</td>\n      <td>1.0</td>\n      <td>1.0</td>\n    </tr>\n    <tr>\n      <th>2</th>\n      <td>0.5</td>\n      <td>0.673285</td>\n      <td>0.000</td>\n      <td>0.0</td>\n      <td>0.680952</td>\n      <td>0.027326</td>\n      <td>0.0</td>\n      <td>1.0</td>\n      <td>1.0</td>\n    </tr>\n    <tr>\n      <th>3</th>\n      <td>0.0</td>\n      <td>0.610455</td>\n      <td>0.125</td>\n      <td>0.0</td>\n      <td>0.531461</td>\n      <td>0.111118</td>\n      <td>0.0</td>\n      <td>0.0</td>\n      <td>1.0</td>\n    </tr>\n    <tr>\n      <th>4</th>\n      <td>0.0</td>\n      <td>0.798944</td>\n      <td>0.125</td>\n      <td>0.8</td>\n      <td>1.000000</td>\n      <td>0.513342</td>\n      <td>0.0</td>\n      <td>1.0</td>\n      <td>1.0</td>\n    </tr>\n    <tr>\n      <th>...</th>\n      <td>...</td>\n      <td>...</td>\n      <td>...</td>\n      <td>...</td>\n      <td>...</td>\n      <td>...</td>\n      <td>...</td>\n      <td>...</td>\n      <td>...</td>\n    </tr>\n    <tr>\n      <th>707</th>\n      <td>0.5</td>\n      <td>0.673285</td>\n      <td>0.125</td>\n      <td>0.0</td>\n      <td>0.916801</td>\n      <td>0.050749</td>\n      <td>0.0</td>\n      <td>1.0</td>\n      <td>1.0</td>\n    </tr>\n    <tr>\n      <th>708</th>\n      <td>1.0</td>\n      <td>0.057552</td>\n      <td>0.250</td>\n      <td>0.2</td>\n      <td>0.236875</td>\n      <td>0.037590</td>\n      <td>0.0</td>\n      <td>0.0</td>\n      <td>0.0</td>\n    </tr>\n    <tr>\n      <th>709</th>\n      <td>0.5</td>\n      <td>0.824076</td>\n      <td>0.000</td>\n      <td>0.0</td>\n      <td>0.680952</td>\n      <td>0.020495</td>\n      <td>0.0</td>\n      <td>1.0</td>\n      <td>1.0</td>\n    </tr>\n    <tr>\n      <th>710</th>\n      <td>1.0</td>\n      <td>0.308872</td>\n      <td>0.000</td>\n      <td>0.0</td>\n      <td>0.531461</td>\n      <td>0.000000</td>\n      <td>0.0</td>\n      <td>1.0</td>\n      <td>1.0</td>\n    </tr>\n    <tr>\n      <th>711</th>\n      <td>1.0</td>\n      <td>0.359135</td>\n      <td>0.000</td>\n      <td>0.0</td>\n      <td>0.293694</td>\n      <td>0.018510</td>\n      <td>0.0</td>\n      <td>1.0</td>\n      <td>1.0</td>\n    </tr>\n  </tbody>\n</table>\n<p>712 rows × 9 columns</p>\n</div>"
     },
     "metadata": {},
     "execution_count": 13
    }
   ],
   "source": [
    "steps = [\n",
    "    (\"reset_index\", ResetIndexTransformer()),\n",
    "    (\"embarked_imp\", ImputeTransformer(col=\"Embarked\", missing_values=np.nan, strategy='most_frequent')),\n",
    "    # (\"debug1\", Debug()),\n",
    "    (\"fare_imp\", ImputeTransformer(col=\"Fare\", missing_values=np.nan, strategy='mean')),\n",
    "    # (\"debug2\", Debug()),\n",
    "    (\"age_imp\", ImputeTransformer(col=\"Age\", missing_values=np.nan, strategy='mean')),\n",
    "    # (\"debug3\", Debug()),\n",
    "    (\"emabarked_enc\", OneHotTransformer(col=\"Embarked\")),\n",
    "    # (\"debug4\", Debug()),\n",
    "    (\"sex_enc\", OneHotTransformer(col=\"Sex\")),\n",
    "    # (\"debug5\", Debug()),\n",
    "    (\"ticket_enc\", SmoothMeanTransformer(col=\"Ticket\", m=200)),\n",
    "    (\"drop_cols\", DropTransformer(cols=[\"Sex\", \"Cabin\", \"Embarked\"])),\n",
    "    # (\"debug6\", Debug()),\n",
    "    (\"scale\", StandardScalerTransformer())\n",
    "]\n",
    "\n",
    "\n",
    "transform_pl = Pipeline(steps=steps, verbose=False)\n",
    "\n",
    "# Test the pipeline on train\n",
    "transform_pl.fit_transform(X_train, Y_train)\n"
   ]
  },
  {
   "cell_type": "code",
   "execution_count": 14,
   "metadata": {},
   "outputs": [
    {
     "output_type": "execute_result",
     "data": {
      "text/plain": [
       "     Pclass       Age  SibSp  Parch    Ticket      Fare  Embarked_Q  \\\n",
       "0       1.0  0.208344  0.000    0.0  0.442744  0.016908         0.0   \n",
       "1       0.5  0.220910  0.000    0.4  0.442744  0.025374         0.0   \n",
       "2       0.5  0.522493  0.125    0.0  0.442744  0.050749         0.0   \n",
       "3       1.0  0.409399  0.000    0.0  0.442744  0.015412         0.0   \n",
       "4       1.0  0.220910  0.125    0.0  0.293694  0.034743         0.0   \n",
       "..      ...       ...    ...    ...       ...       ...         ...   \n",
       "174     0.0  0.886906  0.000    0.0  0.442744  0.067640         0.0   \n",
       "175     0.5  0.421965  0.000    0.0  0.442744  0.025374         0.0   \n",
       "176     0.5  0.673285  0.000    0.0  0.293694  0.050749         0.0   \n",
       "177     0.5  0.258608  0.125    0.0  0.442744  0.022447         0.0   \n",
       "178     1.0  0.367447  0.000    0.0  0.442744  0.015379         1.0   \n",
       "\n",
       "     Embarked_S  Sex_male  \n",
       "0           1.0       1.0  \n",
       "1           1.0       0.0  \n",
       "2           1.0       0.0  \n",
       "3           1.0       1.0  \n",
       "4           1.0       0.0  \n",
       "..          ...       ...  \n",
       "174         0.0       1.0  \n",
       "175         1.0       1.0  \n",
       "176         1.0       1.0  \n",
       "177         1.0       1.0  \n",
       "178         0.0       0.0  \n",
       "\n",
       "[179 rows x 9 columns]"
      ],
      "text/html": "<div>\n<style scoped>\n    .dataframe tbody tr th:only-of-type {\n        vertical-align: middle;\n    }\n\n    .dataframe tbody tr th {\n        vertical-align: top;\n    }\n\n    .dataframe thead th {\n        text-align: right;\n    }\n</style>\n<table border=\"1\" class=\"dataframe\">\n  <thead>\n    <tr style=\"text-align: right;\">\n      <th></th>\n      <th>Pclass</th>\n      <th>Age</th>\n      <th>SibSp</th>\n      <th>Parch</th>\n      <th>Ticket</th>\n      <th>Fare</th>\n      <th>Embarked_Q</th>\n      <th>Embarked_S</th>\n      <th>Sex_male</th>\n    </tr>\n  </thead>\n  <tbody>\n    <tr>\n      <th>0</th>\n      <td>1.0</td>\n      <td>0.208344</td>\n      <td>0.000</td>\n      <td>0.0</td>\n      <td>0.442744</td>\n      <td>0.016908</td>\n      <td>0.0</td>\n      <td>1.0</td>\n      <td>1.0</td>\n    </tr>\n    <tr>\n      <th>1</th>\n      <td>0.5</td>\n      <td>0.220910</td>\n      <td>0.000</td>\n      <td>0.4</td>\n      <td>0.442744</td>\n      <td>0.025374</td>\n      <td>0.0</td>\n      <td>1.0</td>\n      <td>0.0</td>\n    </tr>\n    <tr>\n      <th>2</th>\n      <td>0.5</td>\n      <td>0.522493</td>\n      <td>0.125</td>\n      <td>0.0</td>\n      <td>0.442744</td>\n      <td>0.050749</td>\n      <td>0.0</td>\n      <td>1.0</td>\n      <td>0.0</td>\n    </tr>\n    <tr>\n      <th>3</th>\n      <td>1.0</td>\n      <td>0.409399</td>\n      <td>0.000</td>\n      <td>0.0</td>\n      <td>0.442744</td>\n      <td>0.015412</td>\n      <td>0.0</td>\n      <td>1.0</td>\n      <td>1.0</td>\n    </tr>\n    <tr>\n      <th>4</th>\n      <td>1.0</td>\n      <td>0.220910</td>\n      <td>0.125</td>\n      <td>0.0</td>\n      <td>0.293694</td>\n      <td>0.034743</td>\n      <td>0.0</td>\n      <td>1.0</td>\n      <td>0.0</td>\n    </tr>\n    <tr>\n      <th>...</th>\n      <td>...</td>\n      <td>...</td>\n      <td>...</td>\n      <td>...</td>\n      <td>...</td>\n      <td>...</td>\n      <td>...</td>\n      <td>...</td>\n      <td>...</td>\n    </tr>\n    <tr>\n      <th>174</th>\n      <td>0.0</td>\n      <td>0.886906</td>\n      <td>0.000</td>\n      <td>0.0</td>\n      <td>0.442744</td>\n      <td>0.067640</td>\n      <td>0.0</td>\n      <td>0.0</td>\n      <td>1.0</td>\n    </tr>\n    <tr>\n      <th>175</th>\n      <td>0.5</td>\n      <td>0.421965</td>\n      <td>0.000</td>\n      <td>0.0</td>\n      <td>0.442744</td>\n      <td>0.025374</td>\n      <td>0.0</td>\n      <td>1.0</td>\n      <td>1.0</td>\n    </tr>\n    <tr>\n      <th>176</th>\n      <td>0.5</td>\n      <td>0.673285</td>\n      <td>0.000</td>\n      <td>0.0</td>\n      <td>0.293694</td>\n      <td>0.050749</td>\n      <td>0.0</td>\n      <td>1.0</td>\n      <td>1.0</td>\n    </tr>\n    <tr>\n      <th>177</th>\n      <td>0.5</td>\n      <td>0.258608</td>\n      <td>0.125</td>\n      <td>0.0</td>\n      <td>0.442744</td>\n      <td>0.022447</td>\n      <td>0.0</td>\n      <td>1.0</td>\n      <td>1.0</td>\n    </tr>\n    <tr>\n      <th>178</th>\n      <td>1.0</td>\n      <td>0.367447</td>\n      <td>0.000</td>\n      <td>0.0</td>\n      <td>0.442744</td>\n      <td>0.015379</td>\n      <td>1.0</td>\n      <td>0.0</td>\n      <td>0.0</td>\n    </tr>\n  </tbody>\n</table>\n<p>179 rows × 9 columns</p>\n</div>"
     },
     "metadata": {},
     "execution_count": 14
    }
   ],
   "source": [
    "transform_pl.transform(X_test)"
   ]
  },
  {
   "cell_type": "code",
   "execution_count": 15,
   "metadata": {},
   "outputs": [],
   "source": [
    "steps = [\n",
    "    (\"transform\", transform_pl),\n",
    "    (\"clf\", None)\n",
    "]\n",
    "\n",
    "clf_pl = Pipeline(steps=steps, verbose=False)\n",
    "clf_pl = clf_pl.fit(X_train, Y_train)"
   ]
  },
  {
   "cell_type": "code",
   "execution_count": 29,
   "metadata": {
    "tags": []
   },
   "outputs": [
    {
     "output_type": "stream",
     "name": "stdout",
     "text": [
      "Fitting 8 folds for each of 855 candidates, totalling 6840 fits\n",
      "Best F1 Score:  0.7487104938462578\n",
      "Best Params:  {'clf': RandomForestClassifier(n_estimators=250, random_state=45), 'clf__max_features': 'auto', 'clf__n_estimators': 250}\n",
      "CPU times: user 18.2 s, sys: 956 ms, total: 19.2 s\n",
      "Wall time: 14min 11s\n"
     ]
    }
   ],
   "source": [
    "%%time\n",
    "\n",
    "from sklearn.model_selection import GridSearchCV\n",
    "\n",
    "from sklearn.tree import DecisionTreeClassifier\n",
    "from sklearn.svm import SVC, LinearSVC\n",
    "from sklearn.ensemble import RandomForestClassifier\n",
    "from sklearn.neighbors import KNeighborsClassifier\n",
    "\n",
    "RANDOM_STATE=45\n",
    "\n",
    "grid_params = [\n",
    "    {\n",
    "        'clf': (KNeighborsClassifier(),),\n",
    "        'clf__n_neighbors': np.arange(1, 20, 3),\n",
    "        'clf__algorithm': ['auto', 'ball_tree', 'kd_tree', 'brute'],\n",
    "        'clf__metric': ['euclidean', 'minkowski'],\n",
    "    },\n",
    "    {\n",
    "        'clf': (DecisionTreeClassifier(random_state=RANDOM_STATE),),\n",
    "        'clf__criterion': ['gini', 'entropy'],\n",
    "        'clf__max_depth': np.linspace(1, 1000, 100),\n",
    "        'clf__max_features': ['auto', 'sqrt', 'log2'],\n",
    "    },\n",
    "    {\n",
    "        'clf': (LinearSVC(max_iter=100000, random_state=RANDOM_STATE),),\n",
    "        'clf__C': [0.001, 0.01, 0.1, 1, 10, 100, 1000],\n",
    "    },\n",
    "    {\n",
    "        'clf': (SVC(max_iter=10000, random_state=RANDOM_STATE),),\n",
    "        'clf__C': [0.001, 0.01, 0.1, 1, 10, 100, 1000],\n",
    "        'clf__kernel': ['poly', 'rbf', 'sigmoid'],\n",
    "        'clf__gamma': ['scale', 'auto'],\n",
    "    },\n",
    "    {\n",
    "        'clf': (RandomForestClassifier(random_state=RANDOM_STATE),),\n",
    "        'clf__n_estimators': np.arange(10, 1000, 20),\n",
    "        'clf__max_features': ['auto', 'sqrt', 'log2'],\n",
    "    },\n",
    "\n",
    "]\n",
    "grid = GridSearchCV(clf_pl, \n",
    "                    grid_params, \n",
    "                    verbose=4, \n",
    "                    cv=8, \n",
    "                    scoring=\"f1\", \n",
    "                    n_jobs=4, \n",
    "                    error_score='raise')\n",
    "grid.fit(X_train, Y_train)\n",
    "\n",
    "print(\"Best F1 Score: \", clf.best_score_)\n",
    "print(\"Best Params: \", clf.best_params_)\n"
   ]
  },
  {
   "source": [
    "As we can see GridSearch is a very expensive operation - `RandomForestClassifier` performs best with the above configuration. Now lets train it using the whole training dataset and see how well our classifier performs."
   ],
   "cell_type": "markdown",
   "metadata": {}
  },
  {
   "cell_type": "code",
   "execution_count": 32,
   "metadata": {},
   "outputs": [
    {
     "output_type": "stream",
     "name": "stdout",
     "text": [
      "[Pipeline] ......... (step 1 of 2) Processing transform, total=   0.0s\n",
      "[Pipeline] ............... (step 2 of 2) Processing clf, total=   0.5s\n",
      "Accuracy: 0.8100558659217877\n",
      "F1 scores: 0.757142857142857\n"
     ]
    }
   ],
   "source": [
    "from sklearn.metrics import accuracy_score, f1_score\n",
    "\n",
    "clf = RandomForestClassifier(random_state=RANDOM_STATE, n_estimators=250, max_features='auto')\n",
    "\n",
    "steps = [\n",
    "    (\"transform\", transform_pl),\n",
    "    (\"clf\", clf)\n",
    "]\n",
    "\n",
    "final_pl = Pipeline(steps=steps, verbose=True)\n",
    "final_pl = final_pl.fit(X_train, Y_train)\n",
    "\n",
    "Y_pred = final_pl.predict(X_test)\n",
    "\n",
    "print(f\"Accuracy: {accuracy_score(Y_test, Y_pred)}\")\n",
    "print(f\"F1 scores: {f1_score(Y_test, Y_pred)}\")"
   ]
  }
 ]
}